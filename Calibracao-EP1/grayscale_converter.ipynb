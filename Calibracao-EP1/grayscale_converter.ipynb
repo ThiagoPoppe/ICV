{
 "cells": [
  {
   "cell_type": "markdown",
   "metadata": {},
   "source": [
    "# Imports"
   ]
  },
  {
   "cell_type": "code",
   "execution_count": 3,
   "metadata": {},
   "outputs": [],
   "source": [
    "import numpy as np\n",
    "import cv2"
   ]
  },
  {
   "cell_type": "markdown",
   "metadata": {},
   "source": [
    "# Definindo variáveis auxiliares"
   ]
  },
  {
   "cell_type": "code",
   "execution_count": 4,
   "metadata": {},
   "outputs": [],
   "source": [
    "# Define o número de imagens a serem processadas\n",
    "N_IMAGES = 13\n",
    "\n",
    "# Define o nome das imagens (devem ser iguais)\n",
    "NAME_IMAGES = 'IMG'\n",
    "\n",
    "# Define a terminação das imagens\n",
    "TERMINATION = '.jpg'\n",
    "\n",
    "# Define os caminhos de entrada e de output\n",
    "IN_PATH = 'Gi/NOVO/images/check_board/'\n",
    "OUT_PATH = 'Gi/NOVO/images/grayscale/'"
   ]
  },
  {
   "cell_type": "markdown",
   "metadata": {},
   "source": [
    "# Código para converter uma imagem RGB para Grayscale"
   ]
  },
  {
   "cell_type": "code",
   "execution_count": 5,
   "metadata": {},
   "outputs": [],
   "source": [
    "imgs = []\n",
    "\n",
    "for i in range(1, N_IMAGES + 1):\n",
    "    # Lendo as imagens\n",
    "    img = cv2.imread(IN_PATH + NAME_IMAGES + str(i) + TERMINATION)\n",
    "    \n",
    "    # Realizando a conversão\n",
    "    gray = cv2.cvtColor(img, cv2.COLOR_BGR2GRAY)\n",
    "    \n",
    "    # Salvando as imagens\n",
    "    cv2.imwrite(OUT_PATH + NAME_IMAGES + str(i) + TERMINATION, gray)"
   ]
  },
  {
   "cell_type": "code",
   "execution_count": null,
   "metadata": {},
   "outputs": [],
   "source": []
  }
 ],
 "metadata": {
  "kernelspec": {
   "display_name": "Python 3",
   "language": "python",
   "name": "python3"
  },
  "language_info": {
   "codemirror_mode": {
    "name": "ipython",
    "version": 3
   },
   "file_extension": ".py",
   "mimetype": "text/x-python",
   "name": "python",
   "nbconvert_exporter": "python",
   "pygments_lexer": "ipython3",
   "version": "3.5.6"
  }
 },
 "nbformat": 4,
 "nbformat_minor": 2
}
